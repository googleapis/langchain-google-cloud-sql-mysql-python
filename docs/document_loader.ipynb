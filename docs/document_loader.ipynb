{
 "cells": [
  {
   "cell_type": "markdown",
   "metadata": {},
   "source": [
    "# Google Datebase Cloud SQL for MySQL\n",
    "\n",
    "[Google Database Cloud SQL for MySQL](https://cloud.google.com/sql/mysql).\n",
    "\n",
    "Save, load and delete documents from `MySQL` database.\n",
    "\n",
    "[![Open In Colab](https://colab.research.google.com/assets/colab-badge.svg)](https://colab.research.google.com/github/googleapis/langchain-google-cloud-sql-mysql-python/blob/main/docs/document_loader.ipynb)"
   ]
  },
  {
   "cell_type": "markdown",
   "metadata": {},
   "source": [
    "## Pre-reqs"
   ]
  },
  {
   "cell_type": "markdown",
   "metadata": {},
   "source": [
    "### Install package"
   ]
  },
  {
   "cell_type": "code",
   "execution_count": null,
   "metadata": {
    "tags": []
   },
   "outputs": [],
   "source": [
    "%pip install langchain-google-cloud-sql-mysql"
   ]
  },
  {
   "cell_type": "code",
   "execution_count": 1,
   "metadata": {
    "tags": []
   },
   "outputs": [],
   "source": [
    "from langchain_google_cloud_sql_mysql import MySQLEngine, MySQLLoader, MySQLDocumentSaver\n",
    "from langchain_core.documents import Document\n",
    "import sqlalchemy"
   ]
  },
  {
   "cell_type": "markdown",
   "metadata": {},
   "source": [
    "### Setup gcloud and database"
   ]
  },
  {
   "cell_type": "code",
   "execution_count": 3,
   "metadata": {
    "tags": []
   },
   "outputs": [
    {
     "name": "stdout",
     "output_type": "stream",
     "text": [
      "\u001b[1;33mWARNING:\u001b[0m Your active project does not match the quota project in your local Application Default Credentials file. This might result in unexpected quota issues.\n",
      "\n",
      "To update your Application Default Credentials quota project, use the `gcloud auth application-default set-quota-project` command.\n",
      "Updated property [core/project].\n",
      "Creating new Cloud SQL instance...\n"
     ]
    }
   ],
   "source": [
    "#@markdown Please fill in the value below with your GCP project ID and then run the cell.\n",
    "\n",
    "# Please fill in these values.\n",
    "project_id = \"langchain-cloud-sql-testing\" #@param {type:\"string\"}\n",
    "\n",
    "# Quick input validations.\n",
    "assert project_id, \"⚠️ Please provide a Google Cloud project ID\"\n",
    "\n",
    "# Configure gcloud.\n",
    "!gcloud config set project {project_id}\n",
    "\n",
    "#@markdown Please fill in the both the Google Cloud region and name of your Cloud SQL instance. Once filled in, run the cell.\n",
    "region = \"us-central1\" #@param {type:\"string\"}\n",
    "instance_id = \"test-instance\" #@param {type:\"string\"}\n",
    "db_name = \"test\" #@param {type:\"string\"}\n",
    "\n",
    "# Quick input validations.\n",
    "assert region, \"⚠️ Please provide a Google Cloud region\"\n",
    "assert instance_id, \"⚠️ Please provide the name of your instance\"\n",
    "\n",
    "# check if Cloud SQL instance exists in the provided region\n",
    "database_version = !gcloud sql instances describe {instance_id} --format=\"value(databaseVersion)\"\n",
    "if database_version[0].startswith(\"MYSQL\"):\n",
    "  print(\"Found existing MySQL Cloud SQL Instance!\")\n",
    "else:\n",
    "  print(\"Creating new Cloud SQL instance...\")\n",
    "  password = input(\"Please provide a password to be used for 'postgres' database user: \")\n",
    "  !gcloud sql instances create {instance_name} --database-version=MYSQL_5_7 \\\n",
    "    --region={region} --cpu=1 --memory=4GB --root-password={password} \\\n",
    "    --database-flags=cloudsql.iam_authentication=On\n",
    "  !gcloud sql databases create {database_name} --instance={instance_name}"
   ]
  },
  {
   "cell_type": "markdown",
   "metadata": {},
   "source": [
    "### Register gcloud account as IAM user of MySQL database"
   ]
  },
  {
   "cell_type": "code",
   "execution_count": null,
   "metadata": {},
   "outputs": [],
   "source": [
    "# grant Cloud SQL Client role to authenticated user\n",
    "current_user = !gcloud auth list --filter=status:ACTIVE --format=\"value(account)\"\n",
    "\n",
    "!gcloud projects add-iam-policy-binding {project_id} \\\n",
    "  --member=user:{current_user[0]} \\\n",
    "  --role=\"roles/cloudsql.client\"\n",
    "\n",
    "# Add current logged in IAM user to database\n",
    "!gcloud sql users create {current_user[0]} --instance={instance_name} --type=cloud_iam_user\n",
    "\n",
    "# Login as root to grants user permission to database\n",
    "# !mysql -h 127.0.0.1"
   ]
  },
  {
   "cell_type": "markdown",
   "metadata": {},
   "source": [
    "## Basic Usage"
   ]
  },
  {
   "cell_type": "markdown",
   "metadata": {},
   "source": [
    "### Save documents in default table"
   ]
  },
  {
   "cell_type": "code",
   "execution_count": 2,
   "metadata": {
    "tags": []
   },
   "outputs": [
    {
     "ename": "NameError",
     "evalue": "name 'project_id' is not defined",
     "output_type": "error",
     "traceback": [
      "\u001b[0;31m---------------------------------------------------------------------------\u001b[0m",
      "\u001b[0;31mNameError\u001b[0m                                 Traceback (most recent call last)",
      "Cell \u001b[0;32mIn[2], line 2\u001b[0m\n\u001b[1;32m      1\u001b[0m engine \u001b[38;5;241m=\u001b[39m MySQLEngine\u001b[38;5;241m.\u001b[39mfrom_instance(\n\u001b[0;32m----> 2\u001b[0m     project_id\u001b[38;5;241m=\u001b[39m\u001b[43mproject_id\u001b[49m, region\u001b[38;5;241m=\u001b[39mregion, instance\u001b[38;5;241m=\u001b[39minstance_id, database\u001b[38;5;241m=\u001b[39mdb_name\n\u001b[1;32m      3\u001b[0m )\n\u001b[1;32m      4\u001b[0m \u001b[38;5;66;03m# Create default table\u001b[39;00m\n\u001b[1;32m      5\u001b[0m table_name \u001b[38;5;241m=\u001b[39m \u001b[38;5;124m\"\u001b[39m\u001b[38;5;124mtest-default\u001b[39m\u001b[38;5;124m\"\u001b[39m \u001b[38;5;66;03m#@param {type:\"string\"}\u001b[39;00m\n",
      "\u001b[0;31mNameError\u001b[0m: name 'project_id' is not defined"
     ]
    }
   ],
   "source": [
    "engine = MySQLEngine.from_instance(\n",
    "    project_id=project_id, region=region, instance=instance_id, database=db_name\n",
    ")\n",
    "# Create default table\n",
    "table_name = \"test-default\" #@param {type:\"string\"}\n",
    "with engine.connect() as conn:\n",
    "    conn.execute(sqlalchemy.text(f\"DROP TABLE IF EXISTS `{table_name}`\"))\n",
    "    conn.commit()\n",
    "engine.init_document_table(table_name)\n",
    "\n",
    "\n",
    "test_docs = [\n",
    "    Document(\n",
    "        page_content=\"Apple Granny Smith 150 0.99 1\",\n",
    "        metadata={\"fruit_id\": 1},\n",
    "    ),\n",
    "    Document(\n",
    "        page_content=\"Banana Cavendish 200 0.59 0\",\n",
    "        metadata={\"fruit_id\": 2},\n",
    "    ),\n",
    "    Document(\n",
    "        page_content=\"Orange Navel 80 1.29 1\",\n",
    "        metadata={\"fruit_id\": 3},\n",
    "    ),\n",
    "]\n",
    "saver = MySQLDocumentSaver(engine=engine, table_name=table_name)\n",
    "loader = MySQLLoader(engine=engine, table_name=table_name)\n",
    "\n",
    "# Save documents\n",
    "saver.add_documents(test_docs)"
   ]
  },
  {
   "cell_type": "markdown",
   "metadata": {},
   "source": [
    "### Load documents from default table"
   ]
  },
  {
   "cell_type": "code",
   "execution_count": 21,
   "metadata": {},
   "outputs": [
    {
     "name": "stdout",
     "output_type": "stream",
     "text": [
      "Loaded documents: [Document(page_content='Apple Granny Smith 150 0.99 1', metadata={'fruit_id': 1}), Document(page_content='Banana Cavendish 200 0.59 0', metadata={'fruit_id': 2}), Document(page_content='Orange Navel 80 1.29 1', metadata={'fruit_id': 3})]\n"
     ]
    }
   ],
   "source": [
    "loader = MySQLLoader(engine=engine, table_name=table_name)\n",
    "docs = loader.load()\n",
    "print(\"Loaded documents:\", docs)\n"
   ]
  },
  {
   "cell_type": "markdown",
   "metadata": {},
   "source": [
    "### Load documents via query"
   ]
  },
  {
   "cell_type": "code",
   "execution_count": 31,
   "metadata": {},
   "outputs": [
    {
     "name": "stdout",
     "output_type": "stream",
     "text": [
      "Loaded documents: [Document(page_content='Apple Granny Smith 150 0.99 1', metadata={'fruit_id': 1})]\n"
     ]
    }
   ],
   "source": [
    "loader = MySQLLoader(engine=engine, query=f\"select * from `{table_name}` where JSON_EXTRACT(langchain_metadata, '$.fruit_id') = 1;\")\n",
    "docs = loader.load()\n",
    "print(\"Loaded documents:\", docs)"
   ]
  },
  {
   "cell_type": "markdown",
   "metadata": {},
   "source": [
    "## Advanced Usage"
   ]
  },
  {
   "cell_type": "markdown",
   "metadata": {},
   "source": [
    "### Load documents with customize document page content & metadata"
   ]
  },
  {
   "cell_type": "code",
   "execution_count": 23,
   "metadata": {},
   "outputs": [
    {
     "name": "stdout",
     "output_type": "stream",
     "text": [
      "[Document(page_content='Granny Smith 150 0.99 1', metadata={'fruit_id': 1, 'fruit_name': 'Apple'}), Document(page_content='Cavendish 200 0.59 0', metadata={'fruit_id': 2, 'fruit_name': 'Banana'}), Document(page_content='Navel 80 1.29 1', metadata={'fruit_id': 3, 'fruit_name': 'Orange'})]\n"
     ]
    }
   ],
   "source": [
    "with engine.connect() as conn:\n",
    "    conn.execute(sqlalchemy.text(f\"DROP TABLE IF EXISTS `{table_name}`\"))\n",
    "    conn.commit()\n",
    "    conn.execute(\n",
    "        sqlalchemy.text(\n",
    "            f\"\"\"\n",
    "            CREATE TABLE IF NOT EXISTS `{table_name}`(\n",
    "                fruit_id INT AUTO_INCREMENT PRIMARY KEY,\n",
    "                fruit_name VARCHAR(100) NOT NULL,\n",
    "                variety VARCHAR(50),  \n",
    "                quantity_in_stock INT NOT NULL,\n",
    "                price_per_unit DECIMAL(6,2) NOT NULL,\n",
    "                organic TINYINT(1) NOT NULL\n",
    "            )\n",
    "            \"\"\"\n",
    "        )\n",
    "    )\n",
    "    conn.execute(\n",
    "        sqlalchemy.text(\n",
    "            f\"\"\"\n",
    "            INSERT INTO `{table_name}` (fruit_name, variety, quantity_in_stock, price_per_unit, organic)\n",
    "            VALUES\n",
    "                ('Apple', 'Granny Smith', 150, 0.99, 1),\n",
    "                ('Banana', 'Cavendish', 200, 0.59, 0),\n",
    "                ('Orange', 'Navel', 80, 1.29, 1);\n",
    "            \"\"\"\n",
    "        )\n",
    "    )\n",
    "    conn.commit()\n",
    "\n",
    "loader = MySQLLoader(\n",
    "    engine=engine,\n",
    "    table_name=table_name,\n",
    "    content_columns=[\n",
    "        \"variety\",\n",
    "        \"quantity_in_stock\",\n",
    "        \"price_per_unit\",\n",
    "        \"organic\",\n",
    "    ],\n",
    "    metadata_columns=[\"fruit_id\", \"fruit_name\"],\n",
    ")\n",
    "print(loader.load())"
   ]
  },
  {
   "cell_type": "markdown",
   "metadata": {},
   "source": [
    "### Save document into table with customized metadata"
   ]
  },
  {
   "cell_type": "code",
   "execution_count": 33,
   "metadata": {},
   "outputs": [
    {
     "ename": "SyntaxError",
     "evalue": "unmatched ')' (1376673277.py, line 33)",
     "output_type": "error",
     "traceback": [
      "\u001b[0;36m  Cell \u001b[0;32mIn[33], line 33\u001b[0;36m\u001b[0m\n\u001b[0;31m    print(result))\u001b[0m\n\u001b[0m                 ^\u001b[0m\n\u001b[0;31mSyntaxError\u001b[0m\u001b[0;31m:\u001b[0m unmatched ')'\n"
     ]
    }
   ],
   "source": [
    "with engine.connect() as conn:\n",
    "    conn.execute(sqlalchemy.text(f\"DROP TABLE IF EXISTS `{table_name}`\"))\n",
    "    conn.commit()\n",
    "engine.init_document_table(\n",
    "    table_name, \n",
    "    metadata_columns=[\n",
    "        sqlalchemy.Column(\n",
    "            \"fruit_name\",\n",
    "            sqlalchemy.UnicodeText,\n",
    "            primary_key=False,\n",
    "            nullable=True,\n",
    "        ),\n",
    "        sqlalchemy.Column(\n",
    "            \"organic\",\n",
    "            sqlalchemy.Boolean,\n",
    "            primary_key=False,\n",
    "            nullable=True,\n",
    "        ),\n",
    "    ],\n",
    "    store_metadata=True\n",
    ")\n",
    "test_docs = [\n",
    "        Document(\n",
    "            page_content=\"Granny Smith 150 0.99\",\n",
    "            metadata={\"fruit_id\": 1, \"fruit_name\": \"Apple\", \"organic\": 1},\n",
    "        ),\n",
    "    ]\n",
    "saver = MySQLDocumentSaver(engine=engine, table_name=table_name)\n",
    "\n",
    "saver.add_documents(test_docs)\n",
    "with engine.connect() as conn:\n",
    "    result = conn.execute(sqlalchemy.text(f\"select * from `{table_name}`;\")).fetchall()\n",
    "    print(result)"
   ]
  },
  {
   "cell_type": "markdown",
   "metadata": {},
   "source": [
    "## Customize Connection & Authentication"
   ]
  },
  {
   "cell_type": "code",
   "execution_count": null,
   "metadata": {},
   "outputs": [],
   "source": [
    "from google.cloud.sql.connector import Connector\n",
    "\n",
    "instance_connection_name = \"langchain-cloud-sql-testing:us-central1:test-instance\"  #@param {type:\"string\"}\n",
    "iam_database_user = \"loeng@google.com\"  #@param {type:\"string\"}\n",
    "\n",
    "def getconn() -> pymysql.Connection:\n",
    "    conn = Connector().connect(  # type: ignore\n",
    "        instance_connection_name,\n",
    "        \"pymysql\",\n",
    "        user=iam_database_user,\n",
    "        db=db_name,\n",
    "        enable_iam_auth=True,\n",
    "    )\n",
    "    return conn\n",
    "\n",
    "mysql_engine = sqlalchemy.create_engine(\n",
    "    \"mysql+pymysql://\",\n",
    "    creator=getconn,\n",
    ")\n",
    "\n",
    "engine = MySQLEngine(engine=mysql_engine)"
   ]
  }
 ],
 "metadata": {
  "kernelspec": {
   "display_name": "Python 3 (ipykernel)",
   "language": "python",
   "name": "python3"
  },
  "language_info": {
   "codemirror_mode": {
    "name": "ipython",
    "version": 3
   },
   "file_extension": ".py",
   "mimetype": "text/x-python",
   "name": "python",
   "nbconvert_exporter": "python",
   "pygments_lexer": "ipython3",
   "version": "3.11.6"
  }
 },
 "nbformat": 4,
 "nbformat_minor": 4
}
