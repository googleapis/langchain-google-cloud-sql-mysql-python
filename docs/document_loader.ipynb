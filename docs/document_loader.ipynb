{
 "cells": [
  {
   "cell_type": "markdown",
   "metadata": {},
   "source": [
    "# Google Datebase Cloud SQL MySQL Langchain Document Loader\n",
    "\n",
    "[Google Database Cloud SQL for MySQL](https://cloud.google.com/sql/mysql).\n",
    "\n",
    "Save, load and delete langchain documents from `MySQL` database.\n",
    "\n",
    "[![Open In Colab](https://colab.research.google.com/assets/colab-badge.svg)](https://colab.research.google.com/github/googleapis/langchain-google-cloud-sql-mysql-python/blob/main/docs/document_loader.ipynb)"
   ]
  },
  {
   "cell_type": "markdown",
   "metadata": {},
   "source": [
    "## Pre-reqs"
   ]
  },
  {
   "cell_type": "markdown",
   "metadata": {},
   "source": [
    "### Install package"
   ]
  },
  {
   "cell_type": "code",
   "execution_count": null,
   "metadata": {
    "tags": []
   },
   "outputs": [],
   "source": [
    "%pip install langchain-google-cloud-sql-mysql"
   ]
  },
  {
   "cell_type": "code",
   "execution_count": 2,
   "metadata": {
    "tags": []
   },
   "outputs": [],
   "source": [
    "from langchain_google_cloud_sql_mysql import (\n",
    "    MySQLEngine,\n",
    "    MySQLLoader,\n",
    "    MySQLDocumentSaver,\n",
    ")\n",
    "from langchain_core.documents import Document\n",
    "import sqlalchemy"
   ]
  },
  {
   "cell_type": "markdown",
   "metadata": {},
   "source": [
    "### Setup Cloud SQL MySQL database and configure IAM user access to database"
   ]
  },
  {
   "cell_type": "markdown",
   "metadata": {},
   "source": [
    "Setup Cloud SQL MySQL database: https://cloud.google.com/sql/docs/mysql/create-instance\n",
    "\n",
    "Login datebase using IAM database authentication: https://cloud.google.com/sql/docs/mysql/iam-logins\n",
    "\n",
    "After confirmed access to database in the runtime environment of this notebook, filling the following values and run the cell before running the following example scripts.\n",
    "\n"
   ]
  },
  {
   "cell_type": "code",
   "execution_count": 3,
   "metadata": {
    "tags": []
   },
   "outputs": [],
   "source": [
    "# @markdown Please fill in the value below with your GCP project ID and then run the cell.\n",
    "\n",
    "# Please fill in these values.\n",
    "project_id = \"test-project\"  # @param {type:\"string\"}\n",
    "\n",
    "# @markdown Please fill in the both the Google Cloud region and name of your Cloud SQL instance.\n",
    "region = \"us-central1\"  # @param {type:\"string\"}\n",
    "instance_id = \"test-instance\"  # @param {type:\"string\"}\n",
    "db_name = \"test\"  # @param {type:\"string\"}\n",
    "\n",
    "# @markdown Please specify a table name for demo purpose.\n",
    "table_name = \"test-default\"  # @param {type:\"string\"}"
   ]
  },
  {
   "cell_type": "markdown",
   "metadata": {},
   "source": [
    "## Basic Usage"
   ]
  },
  {
   "cell_type": "markdown",
   "metadata": {},
   "source": [
    "### Save documents in default table"
   ]
  },
  {
   "cell_type": "markdown",
   "metadata": {},
   "source": [
    "Create a table of default schema via `MySQLEngine.init_document_table(<table_name>)`. Table Columns:\n",
    "- page_content (type: text)\n",
    "- langchain_metadata (type: JSON)"
   ]
  },
  {
   "cell_type": "code",
   "execution_count": null,
   "metadata": {},
   "outputs": [],
   "source": [
    "engine = MySQLEngine.from_instance(\n",
    "    project_id=project_id, region=region, instance=instance_id, database=db_name\n",
    ")\n",
    "with engine.connect() as conn:\n",
    "    conn.execute(sqlalchemy.text(f\"DROP TABLE IF EXISTS `{table_name}`\"))\n",
    "    conn.commit()\n",
    "engine.init_document_table(table_name)\n",
    "with engine.connect() as conn:\n",
    "    result = conn.execute(sqlalchemy.text(f\"describe `{table_name}`;\"))\n",
    "    print(result.fetchall())"
   ]
  },
  {
   "cell_type": "markdown",
   "metadata": {},
   "source": [
    "Save langchain documents with `MySQLDocumentSaver.add_documents(<documents>)`."
   ]
  },
  {
   "cell_type": "code",
   "execution_count": 6,
   "metadata": {
    "tags": []
   },
   "outputs": [],
   "source": [
    "test_docs = [\n",
    "    Document(\n",
    "        page_content=\"Apple Granny Smith 150 0.99 1\",\n",
    "        metadata={\"fruit_id\": 1},\n",
    "    ),\n",
    "    Document(\n",
    "        page_content=\"Banana Cavendish 200 0.59 0\",\n",
    "        metadata={\"fruit_id\": 2},\n",
    "    ),\n",
    "    Document(\n",
    "        page_content=\"Orange Navel 80 1.29 1\",\n",
    "        metadata={\"fruit_id\": 3},\n",
    "    ),\n",
    "]\n",
    "saver = MySQLDocumentSaver(engine=engine, table_name=table_name)\n",
    "saver.add_documents(test_docs)"
   ]
  },
  {
   "cell_type": "code",
   "execution_count": null,
   "metadata": {},
   "outputs": [],
   "source": [
    "with engine.connect() as conn:\n",
    "    result = conn.execute(sqlalchemy.text(f\"select * from `{table_name}`;\"))\n",
    "    print(result.keys())\n",
    "    print(result.fetchall())"
   ]
  },
  {
   "cell_type": "markdown",
   "metadata": {},
   "source": [
    "### Load documents from default table"
   ]
  },
  {
   "cell_type": "markdown",
   "metadata": {},
   "source": [
    "Load langchain document with `MySQLLoader.load()` or `MySQLLoader.lazy_load()`. `lazy_load` returns a generator that only queries database during the iteration."
   ]
  },
  {
   "cell_type": "code",
   "execution_count": null,
   "metadata": {},
   "outputs": [],
   "source": [
    "loader = MySQLLoader(engine=engine, table_name=table_name)\n",
    "docs = loader.lazy_load()\n",
    "for doc in docs:\n",
    "    print(\"Loaded documents:\", doc)"
   ]
  },
  {
   "cell_type": "markdown",
   "metadata": {},
   "source": [
    "### Load documents via query"
   ]
  },
  {
   "cell_type": "markdown",
   "metadata": {},
   "source": [
    "Other than loading documents from a table, we can also choose to load documents from a view generated from a SQL query. For example:"
   ]
  },
  {
   "cell_type": "code",
   "execution_count": null,
   "metadata": {},
   "outputs": [],
   "source": [
    "loader = MySQLLoader(\n",
    "    engine=engine,\n",
    "    query=f\"select * from `{table_name}` where JSON_EXTRACT(langchain_metadata, '$.fruit_id') = 1;\",\n",
    ")\n",
    "onedoc = loader.load()\n",
    "print(\"Loaded documents:\", onedoc)"
   ]
  },
  {
   "cell_type": "markdown",
   "metadata": {},
   "source": [
    "The view generated from SQL query can have different schema than default table. In such cases, the behavior of MySQLLoader is the same as loading from table with non-default schema. Please refer to section [Load documents with customized document page content & metadata](#Load-documents-with-customized-document-page-content-&-metadata)."
   ]
  },
  {
   "cell_type": "markdown",
   "metadata": {},
   "source": [
    "### Delete documents in default table"
   ]
  },
  {
   "cell_type": "markdown",
   "metadata": {},
   "source": [
    "Delete a list of langchain documents from MySQL table with `MySQLDocumentSaver.delete(<documents>)`.\n",
    "\n",
    "For table with default schema (page_content, langchain_metadata), the deletion criteria is:\n",
    "\n",
    "A `row` should be deleted if there exists a `document` in the list, such that\n",
    "- `document.page_content` equals `row[page_content]`\n",
    "- `document.metadata` equals `row[langchain_metadata]`"
   ]
  },
  {
   "cell_type": "code",
   "execution_count": null,
   "metadata": {},
   "outputs": [],
   "source": [
    "loader = MySQLLoader(engine=engine, table_name=table_name)\n",
    "docs = loader.load()\n",
    "print(\"Documents before delete:\", docs)\n",
    "saver.delete(onedoc)\n",
    "print(\"Documents after delete:\", loader.load())"
   ]
  },
  {
   "cell_type": "markdown",
   "metadata": {},
   "source": [
    "## Advanced Usage"
   ]
  },
  {
   "cell_type": "markdown",
   "metadata": {},
   "source": [
    "### Load documents with customized document page content & metadata"
   ]
  },
  {
   "cell_type": "markdown",
   "metadata": {},
   "source": [
    "First we prepare an example table with non-default schema, and populate it with some arbitary data."
   ]
  },
  {
   "cell_type": "code",
   "execution_count": 12,
   "metadata": {},
   "outputs": [],
   "source": [
    "with engine.connect() as conn:\n",
    "    conn.execute(sqlalchemy.text(f\"DROP TABLE IF EXISTS `{table_name}`\"))\n",
    "    conn.commit()\n",
    "    conn.execute(\n",
    "        sqlalchemy.text(\n",
    "            f\"\"\"\n",
    "            CREATE TABLE IF NOT EXISTS `{table_name}`(\n",
    "                fruit_id INT AUTO_INCREMENT PRIMARY KEY,\n",
    "                fruit_name VARCHAR(100) NOT NULL,\n",
    "                variety VARCHAR(50),  \n",
    "                quantity_in_stock INT NOT NULL,\n",
    "                price_per_unit DECIMAL(6,2) NOT NULL,\n",
    "                organic TINYINT(1) NOT NULL\n",
    "            )\n",
    "            \"\"\"\n",
    "        )\n",
    "    )\n",
    "    conn.execute(\n",
    "        sqlalchemy.text(\n",
    "            f\"\"\"\n",
    "            INSERT INTO `{table_name}` (fruit_name, variety, quantity_in_stock, price_per_unit, organic)\n",
    "            VALUES\n",
    "                ('Apple', 'Granny Smith', 150, 0.99, 1),\n",
    "                ('Banana', 'Cavendish', 200, 0.59, 0),\n",
    "                ('Orange', 'Navel', 80, 1.29, 1);\n",
    "            \"\"\"\n",
    "        )\n",
    "    )\n",
    "    conn.commit()"
   ]
  },
  {
   "cell_type": "markdown",
   "metadata": {},
   "source": [
    "If we still load langchain document with default option of `MySQLLoader` from this example table, the page_content of loaded documents will be the first column of the table, and metadata will be conists of key-value pairs of all the other columns."
   ]
  },
  {
   "cell_type": "code",
   "execution_count": null,
   "metadata": {},
   "outputs": [],
   "source": [
    "loader = MySQLLoader(\n",
    "    engine=engine,\n",
    "    table_name=table_name,\n",
    ")\n",
    "print(loader.load())"
   ]
  },
  {
   "cell_type": "markdown",
   "metadata": {},
   "source": [
    "We can specify the content and metadata we want to load by setting the `content_columns` and `metadata_columns` when initializing the `MySQLLoader`.\n",
    "\n",
    "For example here, the values of columns in `content_columns` will be joined together into a space-separated string, as `page_content` of loaded documents, and `metadata` of loaded documents will only contain key-value pairs of columns specified in `metadata_columns`."
   ]
  },
  {
   "cell_type": "code",
   "execution_count": null,
   "metadata": {},
   "outputs": [],
   "source": [
    "loader = MySQLLoader(\n",
    "    engine=engine,\n",
    "    table_name=table_name,\n",
    "    content_columns=[\n",
    "        \"variety\",\n",
    "        \"quantity_in_stock\",\n",
    "        \"price_per_unit\",\n",
    "        \"organic\",\n",
    "    ],\n",
    "    metadata_columns=[\"fruit_id\", \"fruit_name\"],\n",
    ")\n",
    "print(loader.load())"
   ]
  },
  {
   "cell_type": "markdown",
   "metadata": {},
   "source": [
    "### Save document into table with customized metadata"
   ]
  },
  {
   "cell_type": "markdown",
   "metadata": {},
   "source": [
    "In order to save langchain document into table with customized metadata fields. We need first create such a table via `MySQLEngine.init_document_table()`, and specify the list of `metadata_columns` we want it to have. In this example, the created table will have table columns:\n",
    "- page_content (type: text)\n",
    "- fruit_name (type text)\n",
    "- organic (type tinyint(1))\n",
    "- langchain_metadata (type: JSON)\n",
    "\n",
    "`store_metadata` indicate if we want to store metadata fields other than the ones specified in `metadata_columns`, those extra metadata will be stored in `langchain_metadata` column. In case of `store_metadata=False`, `langchain_metadata` will not be created."
   ]
  },
  {
   "cell_type": "code",
   "execution_count": 15,
   "metadata": {},
   "outputs": [],
   "source": [
    "with engine.connect() as conn:\n",
    "    conn.execute(sqlalchemy.text(f\"DROP TABLE IF EXISTS `{table_name}`\"))\n",
    "    conn.commit()\n",
    "engine.init_document_table(\n",
    "    table_name,\n",
    "    metadata_columns=[\n",
    "        sqlalchemy.Column(\n",
    "            \"fruit_name\",\n",
    "            sqlalchemy.UnicodeText,\n",
    "            primary_key=False,\n",
    "            nullable=True,\n",
    "        ),\n",
    "        sqlalchemy.Column(\n",
    "            \"organic\",\n",
    "            sqlalchemy.Boolean,\n",
    "            primary_key=False,\n",
    "            nullable=True,\n",
    "        ),\n",
    "    ],\n",
    "    store_metadata=True,\n",
    ")"
   ]
  },
  {
   "cell_type": "markdown",
   "metadata": {},
   "source": [
    "Save documents with `MySQLDocumentSaver.add_documents(<documents>)`. As you can see in this example, \n",
    "- `document.page_content` will be saved into `page_content` column.\n",
    "- `document.metadata.fruit_name` will be saved into `fruit_name` column.\n",
    "- `document.metadata.organic` will be saved into `organic` column.\n",
    "- `document.metadata.fruit_id` will be saved into `langchain_metadata` column in JSON format."
   ]
  },
  {
   "cell_type": "code",
   "execution_count": null,
   "metadata": {},
   "outputs": [],
   "source": [
    "test_docs = [\n",
    "    Document(\n",
    "        page_content=\"Granny Smith 150 0.99\",\n",
    "        metadata={\"fruit_id\": 1, \"fruit_name\": \"Apple\", \"organic\": 1},\n",
    "    ),\n",
    "]\n",
    "saver = MySQLDocumentSaver(engine=engine, table_name=table_name)\n",
    "saver.add_documents(test_docs)\n",
    "with engine.connect() as conn:\n",
    "    result = conn.execute(sqlalchemy.text(f\"select * from `{table_name}`;\"))\n",
    "    print(result.keys())\n",
    "    print(result.fetchall())"
   ]
  },
  {
   "cell_type": "markdown",
   "metadata": {},
   "source": [
    "### Delete documents in table with customized metadata"
   ]
  },
  {
   "cell_type": "markdown",
   "metadata": {},
   "source": [
    "We can also delete documents from table with customized metadata columns via `MySQLDocumentSaver.delete(<documents>)`. The deletion criteria is:\n",
    "\n",
    "A `row` should be deleted if there exists a `document` in the list, such that\n",
    "- `document.page_content` equals `row[page_content]`\n",
    "- For every metadata field `k` in `document.metadata`\n",
    "    - `document.metadata[k]` equals `row[k]` or `document.metadata[k]` equals `row[langchain_metadata][k]`\n",
    "- There no extra metadata field presents in `row` but not in `document.metadata`.\n",
    "\n"
   ]
  },
  {
   "cell_type": "code",
   "execution_count": null,
   "metadata": {},
   "outputs": [],
   "source": [
    "loader = MySQLLoader(engine=engine, table_name=table_name)\n",
    "docs = loader.load()\n",
    "print(\"Documents before delete:\", docs)\n",
    "saver.delete(docs)\n",
    "print(\"Documents after delete:\", loader.load())"
   ]
  }
 ],
 "metadata": {
  "kernelspec": {
   "display_name": "Python 3 (ipykernel)",
   "language": "python",
   "name": "python3"
  },
  "language_info": {
   "codemirror_mode": {
    "name": "ipython",
    "version": 3
   },
   "file_extension": ".py",
   "mimetype": "text/x-python",
   "name": "python",
   "nbconvert_exporter": "python",
   "pygments_lexer": "ipython3",
   "version": "3.11.6"
  }
 },
 "nbformat": 4,
 "nbformat_minor": 4
}
